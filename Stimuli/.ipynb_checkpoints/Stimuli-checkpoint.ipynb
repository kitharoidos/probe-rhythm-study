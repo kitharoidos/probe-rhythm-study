{
 "cells": [
  {
   "cell_type": "markdown",
   "metadata": {},
   "source": [
    "# Stimuli"
   ]
  },
  {
   "cell_type": "code",
   "execution_count": 1,
   "metadata": {
    "collapsed": false
   },
   "outputs": [],
   "source": [
    "import Prelude as P\n",
    "import Formatting as Fmt\n",
    "import Control.Monad (zipWithM_,)\n",
    "\n",
    "import Data.Array.Repa as Arr\n",
    "import Data.Array.Repa.Repr.Vector (V,)\n",
    "import Data.Array.Repa.Eval (fromList,)\n",
    "\n",
    "import Temporal.Music as Mus\n",
    "import Temporal.Music.Scales as Sc\n",
    "\n",
    "import Csound.Base as Cs\n",
    "import Csound.Catalog.Drum.Tr808 as Cat"
   ]
  },
  {
   "cell_type": "code",
   "execution_count": 2,
   "metadata": {
    "collapsed": false
   },
   "outputs": [],
   "source": [
    "csdDrum :: Drum a -> CsdNote Cs.D\n",
    "csdDrum d = (double . absVolume $ drumVolume d, 1)\n",
    "\n",
    "scoreToSco :: Score a -> Sco a\n",
    "scoreToSco = Cs.har . fmap f . Mus.render\n",
    "    where f (Event s d a) = Cs.del (double s) . Cs.str (double d) $ Cs.temp a\n",
    "    \n",
    "csdDrums :: Score (Drum a) -> Sco (CsdNote Cs.D)\n",
    "csdDrums = fmap csdDrum . scoreToSco"
   ]
  },
  {
   "cell_type": "code",
   "execution_count": 3,
   "metadata": {
    "collapsed": false
   },
   "outputs": [],
   "source": [
    "scaleNames :: Array V DIM1 String\n",
    "scaleNames = fromList (Z :. 2) [\"12TET\", \"12TFarey\"]\n",
    "\n",
    "scaleGenerators :: Array V DIM1 (Hz -> Scale)\n",
    "scaleGenerators = fromList (Z :. 2) [eqt, farey]\n",
    "    where farey = fromIntervals 2 [1/1, 16/15, 9/8, 6/5, 5/4, 4/3, 17/12, 3/2, 8/5, 5/3, 16/9, 15/8]\n",
    "\n",
    "scaleBases :: Array V DIM1 Hz\n",
    "scaleBases = fromList (Z :. 7) $ P.map (scaleAt (eqt 1)) [0, 1, 2, 3, 4, 5, 6]\n",
    "\n",
    "scales :: Array Arr.D DIM2 Scale\n",
    "scales = traverse2 scaleGenerators scaleBases fs fe\n",
    "    where fs (Z :. ng) (Z :. nb) = Z :. ng :. nb\n",
    "          fe g b (Z :. ig :. ib) = g (Z :. ig) $ b (Z :. ib)\n",
    "          \n",
    "contextNotes :: Array Arr.D DIM2 [Score (Note a)]\n",
    "contextNotes = Arr.map f scales\n",
    "    where f s = P.map (setScale s . nx) [0, 4, 7]\n",
    "    \n",
    "probeSteps :: Array V DIM1 Step\n",
    "probeSteps = fromList (Z :. 12) [0 .. 11]\n",
    "    \n",
    "probeNotes :: Array Arr.D DIM3 (Score (Note a))\n",
    "probeNotes = traverse2 scales probeSteps fs fe\n",
    "    where fs (Z :. ng :. nb) (Z :. nst) = Z :. ng :. nb :. nst\n",
    "          fe sc st (Z :. ig :. ib :. ist) = setScale (sc (Z :. ig :. ib)) $ nx (st (Z :. ist))\n",
    "          \n",
    "stimulusChords :: Array Arr.D DIM3 (Score (Note a))\n",
    "stimulusChords = Arr.zipWith f contextNotes' probeNotes\n",
    "    where f cns pn = Mus.har (pn:cns)\n",
    "          contextNotes' = extend (Z :. Arr.All :. Arr.All :. (12::Int)) contextNotes\n",
    "          \n",
    "stimulusFileNames :: Array Arr.D DIM3 String\n",
    "stimulusFileNames = traverse3 scaleNames scaleBases probeSteps fs fe\n",
    "    where fs (Z :. ng) (Z :. nb) (Z :. nst) = Z :. ng :. nb :. nst\n",
    "          fe n b st (Z :. ig :. ib :. ist) =\n",
    "              formatToString (string % \"-\" % fixed 3 % \"-\" % Fmt.int % \".wav\") (n (Z :. ig)) (b (Z :. ib)) (st (Z :. ist))"
   ]
  },
  {
   "cell_type": "code",
   "execution_count": 11,
   "metadata": {
    "collapsed": false
   },
   "outputs": [],
   "source": [
    "noteToRhythm :: Event t (Note a) -> Score (Drum a)\n",
    "noteToRhythm e = loopBy (ceiling $ r * 12) . Mus.str (1 / f) . setLevel 4 $ Mus.temp def\n",
    "    where p = notePitch $ eventContent e\n",
    "          f = absPitch p\n",
    "          r = scaleStep (pitchScale p) $ pitchStep p\n",
    "\n",
    "stimulusRhythms :: Array Arr.D DIM3 (Score (Drum a))\n",
    "stimulusRhythms = Arr.map f stimulusChords\n",
    "    where f = foldl1 (Mus.=:=) . Mus.tmap noteToRhythm"
   ]
  },
  {
   "cell_type": "code",
   "execution_count": 12,
   "metadata": {
    "collapsed": false
   },
   "outputs": [],
   "source": [
    "patch :: Patch2\n",
    "patch = Patch instr []\n",
    "    where instr (a, _) = do let a' = sig a\n",
    "                            ch1 <- Cat.rimShot\n",
    "                            ch2 <- Cat.rimShot\n",
    "                            return (a' * ch1, a' * ch2)\n",
    "\n",
    "stimuli :: Array Arr.D DIM3 Sig2\n",
    "stimuli = Arr.map (mix . atSco patch . csdDrums) stimulusRhythms"
   ]
  },
  {
   "cell_type": "code",
   "execution_count": 13,
   "metadata": {
    "collapsed": false
   },
   "outputs": [
    {
     "data": {
      "text/plain": []
     },
     "metadata": {},
     "output_type": "display_data"
    }
   ],
   "source": [
    "zipWithM_ writeSnd (toList stimulusFileNames) (toList stimuli)"
   ]
  },
  {
   "cell_type": "code",
   "execution_count": null,
   "metadata": {
    "collapsed": true
   },
   "outputs": [],
   "source": []
  }
 ],
 "metadata": {
  "kernelspec": {
   "display_name": "Haskell",
   "language": "haskell",
   "name": "haskell"
  },
  "language_info": {
   "codemirror_mode": "ihaskell",
   "file_extension": ".hs",
   "name": "haskell",
   "version": "7.10.2"
  }
 },
 "nbformat": 4,
 "nbformat_minor": 0
}
