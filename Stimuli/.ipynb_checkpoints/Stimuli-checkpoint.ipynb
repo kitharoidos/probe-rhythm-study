{
 "cells": [
  {
   "cell_type": "markdown",
   "metadata": {},
   "source": [
    "# Stimuli"
   ]
  },
  {
   "cell_type": "code",
   "execution_count": 9,
   "metadata": {
    "collapsed": true
   },
   "outputs": [],
   "source": [
    "import Prelude as P\n",
    "\n",
    "import Temporal.Music as Mus\n",
    "import Temporal.Music.Scales as Sc"
   ]
  },
  {
   "cell_type": "code",
   "execution_count": 12,
   "metadata": {
    "collapsed": false
   },
   "outputs": [
    {
     "data": {
      "text/html": [
       "<style>/* Styles used for the Hoogle display in the pager */\n",
       ".hoogle-doc {\n",
       "display: block;\n",
       "padding-bottom: 1.3em;\n",
       "padding-left: 0.4em;\n",
       "}\n",
       ".hoogle-code {\n",
       "display: block;\n",
       "font-family: monospace;\n",
       "white-space: pre;\n",
       "}\n",
       ".hoogle-text {\n",
       "display: block;\n",
       "}\n",
       ".hoogle-name {\n",
       "color: green;\n",
       "font-weight: bold;\n",
       "}\n",
       ".hoogle-head {\n",
       "font-weight: bold;\n",
       "}\n",
       ".hoogle-sub {\n",
       "display: block;\n",
       "margin-left: 0.4em;\n",
       "}\n",
       ".hoogle-package {\n",
       "font-weight: bold;\n",
       "font-style: italic;\n",
       "}\n",
       ".hoogle-module {\n",
       "font-weight: bold;\n",
       "}\n",
       ".hoogle-class {\n",
       "font-weight: bold;\n",
       "}\n",
       ".get-type {\n",
       "color: green;\n",
       "font-weight: bold;\n",
       "font-family: monospace;\n",
       "display: block;\n",
       "white-space: pre-wrap;\n",
       "}\n",
       ".show-type {\n",
       "color: green;\n",
       "font-weight: bold;\n",
       "font-family: monospace;\n",
       "margin-left: 1em;\n",
       "}\n",
       ".mono {\n",
       "font-family: monospace;\n",
       "display: block;\n",
       "}\n",
       ".err-msg {\n",
       "color: red;\n",
       "font-style: italic;\n",
       "font-family: monospace;\n",
       "white-space: pre;\n",
       "display: block;\n",
       "}\n",
       "#unshowable {\n",
       "color: red;\n",
       "font-weight: bold;\n",
       "}\n",
       ".err-msg.in.collapse {\n",
       "padding-top: 0.7em;\n",
       "}\n",
       ".highlight-code {\n",
       "white-space: pre;\n",
       "font-family: monospace;\n",
       "}\n",
       ".suggestion-warning { \n",
       "font-weight: bold;\n",
       "color: rgb(200, 130, 0);\n",
       "}\n",
       ".suggestion-error { \n",
       "font-weight: bold;\n",
       "color: red;\n",
       "}\n",
       ".suggestion-name {\n",
       "font-weight: bold;\n",
       "}\n",
       "</style><span class='err-msg'>Couldn't match expected type ‘Scale’ with actual type ‘[Scale]’<br/>In the first argument of ‘setScale’, namely ‘s’<br/>In the first argument of ‘(.)’, namely ‘setScale s’</span>"
      ],
      "text/plain": [
       "Couldn't match expected type ‘Scale’ with actual type ‘[Scale]’\n",
       "In the first argument of ‘setScale’, namely ‘s’\n",
       "In the first argument of ‘(.)’, namely ‘setScale s’"
      ]
     },
     "metadata": {},
     "output_type": "display_data"
    }
   ],
   "source": [
    "scales = [s f0 | s <- [eqt, farey], f0 <- bases]\n",
    "    where farey = fromIntervals 2 [1/1, 16/15, 9/8, 6/5, 5/4, 4/3, 17/12, 3/2, 8/5, 5/3, 16/9, 15/8]\n",
    "          bases = map (scaleAt (eqt 1)) [0, 1, 2, 3, 4, 5, 6]\n",
    "\n",
    "contextChords = [setScale s . har $ map nx [0, 4, 7] | s <- scales]\n",
    "\n",
    "probeNotes = []"
   ]
  },
  {
   "cell_type": "code",
   "execution_count": null,
   "metadata": {
    "collapsed": true
   },
   "outputs": [],
   "source": []
  },
  {
   "cell_type": "code",
   "execution_count": 41,
   "metadata": {
    "collapsed": false
   },
   "outputs": [],
   "source": [
    "import Prelude as P\n",
    "\n",
    "import Csound.Base as C\n",
    "import Csound.Sam as S\n",
    "\n",
    "import Control.Monad (mapM_,)"
   ]
  },
  {
   "cell_type": "code",
   "execution_count": 42,
   "metadata": {
    "collapsed": false
   },
   "outputs": [],
   "source": [
    "data Pitch = C | Cis | D | Dis | E | F | Fis | G | Gis | A | Ais | B deriving (Show, Eq, Enum)\n",
    "\n",
    "data ChromaticScale = ChromaticScale deriving (Show, Eq)\n",
    "\n",
    "data Context = MajorTriad Pitch deriving Eq\n",
    "instance Show Context where\n",
    "    show (MajorTriad p) = show p ++ \"MajorTriad\"\n",
    "\n",
    "type Probe = Pitch\n",
    "\n",
    "data Stimulus = Stimulus Context Probe deriving Eq\n",
    "instance Show Stimulus where\n",
    "    show (Stimulus c p) = show c ++ \"-\" ++ show p"
   ]
  },
  {
   "cell_type": "code",
   "execution_count": 45,
   "metadata": {
    "collapsed": false
   },
   "outputs": [
    {
     "data": {
      "text/plain": [
       "C"
      ]
     },
     "metadata": {},
     "output_type": "display_data"
    }
   ],
   "source": [
    "toEnum (mod 12 12) :: Pitch"
   ]
  },
  {
   "cell_type": "code",
   "execution_count": 27,
   "metadata": {
    "collapsed": false
   },
   "outputs": [],
   "source": [
    "class Element a where\n",
    "    pitches :: a -> [Pitch]\n",
    "\n",
    "instance Element Pitch where\n",
    "    pitches p = [p]\n",
    "    \n",
    "instance Element ChromaticScale where\n",
    "    pitches ChromaticScale = [C, Des, D, Es, E, F, Fis, G, As, A, Bb, B]\n",
    "    \n",
    "instance Element Context where\n",
    "    pitches CMajorTriad = [C, E, G]"
   ]
  },
  {
   "cell_type": "code",
   "execution_count": 28,
   "metadata": {
    "collapsed": false
   },
   "outputs": [],
   "source": [
    "class Golden12 a where\n",
    "    ratios :: a -> [Either Rational Double]\n",
    "    coeffs :: a -> [D]\n",
    "    coeffs x = map coeff $ ratios x\n",
    "        where coeff (Left  r) = fromRational r\n",
    "              coeff (Right d) = double d\n",
    "    period :: Num b => a -> b\n",
    "    period e = fromIntegral . foldl lcm 1 . map denominator . lefts $ ratios e\n",
    "\n",
    "instance Element a => Golden12 a where\n",
    "    ratios e = map ((g12 !!) . fromEnum) $ pitches e\n",
    "        where lowerG12 = [1%1, 16%15, 10%9, 6%5, 5%4, 4%3]\n",
    "              tritonus = sqrt 2\n",
    "              upperG12 = reverse $ map (2 /) lowerG12\n",
    "              g12      = map Left lowerG12 ++ [Right tritonus] ++ map Left upperG12"
   ]
  },
  {
   "cell_type": "code",
   "execution_count": 29,
   "metadata": {
    "collapsed": false
   },
   "outputs": [],
   "source": [
    "class ToSamples a where\n",
    "    toSamples :: [D] -> a -> Either Sam (Sam, Sam)\n",
    "\n",
    "instance ToSamples Pitch where\n",
    "    toSamples (d:_) p = Left . lim d . str (head $ coeffs p) . loop . fromSig1 1 $ ticks 1 1\n",
    "    \n",
    "instance ToSamples Context where\n",
    "    toSamples (d:_) c = Left . mean . lefts . map (toSamples [d]) $ pitches c\n",
    "    \n",
    "instance ToSamples Stimulus where\n",
    "    toSamples (dc:dp:_) (Stimulus c p) = Right (cxt, del dc prb)\n",
    "        where Left cxt = toSamples [dc + dp] c\n",
    "              Left prb = toSamples [dp] p"
   ]
  },
  {
   "cell_type": "code",
   "execution_count": 30,
   "metadata": {
    "collapsed": false
   },
   "outputs": [],
   "source": [
    "class ToSignal a where\n",
    "    toSignal :: D -> [D] -> a -> SE Sig2\n",
    "    \n",
    "instance ToSignal Stimulus where\n",
    "    toSignal t ds s = do let Right (cxt, prb) = toSamples ds s\n",
    "                         (cxtSig, _) <- runSam t cxt\n",
    "                         (_, prbSig) <- runSam t prb\n",
    "                         let d = (60 / t) * sum ds\n",
    "                         return $ setDur d (cxtSig, prbSig)"
   ]
  },
  {
   "cell_type": "code",
   "execution_count": 32,
   "metadata": {
    "collapsed": false
   },
   "outputs": [
    {
     "data": {
      "text/plain": [
       "[Left (1 % 1),Left (16 % 15),Left (10 % 9),Left (6 % 5),Left (5 % 4),Left (4 % 3),Right 1.4142135623730951,Left (3 % 2),Left (8 % 5),Left (5 % 3),Left (9 % 5),Left (15 % 8)]"
      ]
     },
     "metadata": {},
     "output_type": "display_data"
    }
   ],
   "source": [
    "ratios ChromaticScale"
   ]
  },
  {
   "cell_type": "code",
   "execution_count": 33,
   "metadata": {
    "collapsed": false
   },
   "outputs": [
    {
     "data": {
      "text/plain": [
       "[Left (1 % 1),Left (5 % 4),Left (3 % 2)]"
      ]
     },
     "metadata": {},
     "output_type": "display_data"
    }
   ],
   "source": [
    "ratios CMajorTriad"
   ]
  },
  {
   "cell_type": "code",
   "execution_count": 34,
   "metadata": {
    "collapsed": false
   },
   "outputs": [
    {
     "data": {
      "text/plain": [
       "[Left (1 % 1),Left (6 % 5),Left (3 % 2)]"
      ]
     },
     "metadata": {},
     "output_type": "display_data"
    }
   ],
   "source": [
    "ratios CMinorTriad"
   ]
  },
  {
   "cell_type": "code",
   "execution_count": 35,
   "metadata": {
    "collapsed": false
   },
   "outputs": [],
   "source": [
    "contextChords = [CMajorTriad, CMinorTriad]\n",
    "probePitches  = pitches ChromaticScale"
   ]
  },
  {
   "cell_type": "markdown",
   "metadata": {},
   "source": [
    "Tempo (bpm):"
   ]
  },
  {
   "cell_type": "code",
   "execution_count": 36,
   "metadata": {
    "collapsed": false
   },
   "outputs": [],
   "source": [
    "tempo = 120"
   ]
  },
  {
   "cell_type": "markdown",
   "metadata": {},
   "source": [
    "Context length (periods):"
   ]
  },
  {
   "cell_type": "code",
   "execution_count": 37,
   "metadata": {
    "collapsed": false
   },
   "outputs": [],
   "source": [
    "cxtLen = 2"
   ]
  },
  {
   "cell_type": "markdown",
   "metadata": {},
   "source": [
    "Probe length (context periods):"
   ]
  },
  {
   "cell_type": "code",
   "execution_count": 38,
   "metadata": {
    "collapsed": false
   },
   "outputs": [],
   "source": [
    "prbLen = 2 * cxtLen"
   ]
  },
  {
   "cell_type": "markdown",
   "metadata": {},
   "source": [
    "Stimuli:"
   ]
  },
  {
   "cell_type": "code",
   "execution_count": 39,
   "metadata": {
    "collapsed": false
   },
   "outputs": [
    {
     "data": {
      "text/plain": []
     },
     "metadata": {},
     "output_type": "display_data"
    }
   ],
   "source": [
    "stimuli = [(Stimulus c p, period c) | c <- contextChords, p <- probePitches]\n",
    "mapM_ (\\(s, p) -> writeSnd (show s ++ \".wav\") (toSignal tempo [cxtLen * p, prbLen * p] s)) stimuli"
   ]
  },
  {
   "cell_type": "code",
   "execution_count": null,
   "metadata": {
    "collapsed": true
   },
   "outputs": [],
   "source": []
  }
 ],
 "metadata": {
  "kernelspec": {
   "display_name": "Haskell",
   "language": "haskell",
   "name": "haskell"
  },
  "language_info": {
   "codemirror_mode": "ihaskell",
   "file_extension": ".hs",
   "name": "haskell",
   "version": "7.10.2"
  }
 },
 "nbformat": 4,
 "nbformat_minor": 0
}
