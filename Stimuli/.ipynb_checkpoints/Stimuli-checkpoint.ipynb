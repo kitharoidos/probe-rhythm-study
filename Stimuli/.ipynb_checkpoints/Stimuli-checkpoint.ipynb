{
 "cells": [
  {
   "cell_type": "markdown",
   "metadata": {},
   "source": [
    "# Stimuli"
   ]
  },
  {
   "cell_type": "code",
   "execution_count": 48,
   "metadata": {
    "collapsed": false
   },
   "outputs": [],
   "source": [
    "import Prelude as P\n",
    "\n",
    "import Csound.Base as C\n",
    "import Csound.Sam as S\n",
    "\n",
    "import Control.Monad (mapM_,)\n",
    "import Data.Ratio as R\n",
    "import Data.Either as E"
   ]
  },
  {
   "cell_type": "code",
   "execution_count": 49,
   "metadata": {
    "collapsed": false
   },
   "outputs": [],
   "source": [
    "data Context = CMajorTriad | CMinorTriad deriving (Eq, Show)\n",
    "\n",
    "data Pitch = C | Des | D | Es | E | F | Fis | G | As | A | Bb | B deriving (Show, Eq, Enum)\n",
    "data ChromaticScale = ChromaticScale deriving (Show, Eq)\n",
    "type Probe = Pitch\n",
    "\n",
    "data Stimulus = Stimulus Context Probe deriving Eq\n",
    "instance Show Stimulus where\n",
    "    show (Stimulus c p) = show c ++ \"-\" ++ show p"
   ]
  },
  {
   "cell_type": "code",
   "execution_count": 50,
   "metadata": {
    "collapsed": false
   },
   "outputs": [],
   "source": [
    "class Element a where\n",
    "    pitches :: a -> [Pitch]\n",
    "\n",
    "instance Element Pitch where\n",
    "    pitches p = [p]\n",
    "    \n",
    "instance Element ChromaticScale where\n",
    "    pitches ChromaticScale = [C, Des, D, Es, E, F, Fis, G, As, A, Bb, B]\n",
    "    \n",
    "instance Element Context where\n",
    "    pitches CMajorTriad = [C, E,  G]\n",
    "    pitches CMinorTriad = [C, Es, G]"
   ]
  },
  {
   "cell_type": "code",
   "execution_count": 51,
   "metadata": {
    "collapsed": false
   },
   "outputs": [],
   "source": [
    "class Golden12 a where\n",
    "    ratios :: a -> [Either Rational Double]\n",
    "    coeffs :: a -> [D]\n",
    "    coeffs x = map coeff $ ratios x\n",
    "        where coeff (Left  r) = fromRational r\n",
    "              coeff (Right d) = double d\n",
    "\n",
    "instance Element a => Golden12 a where\n",
    "    ratios e = map ((g12 !!) . fromEnum) $ pitches e\n",
    "        where lowerG12 = [1%1, 16%15, 10%9, 6%5, 5%4, 4%3]\n",
    "              tritonus = sqrt 2\n",
    "              upperG12 = reverse $ map (2 /) lowerG12\n",
    "              g12      = map Left lowerG12 ++ [Right tritonus] ++ map Left upperG12"
   ]
  },
  {
   "cell_type": "code",
   "execution_count": 52,
   "metadata": {
    "collapsed": false
   },
   "outputs": [],
   "source": [
    "class Rhythm a where\n",
    "    sample :: [D] -> Sam -> a -> Sam\n",
    "\n",
    "instance Rhythm Pitch where\n",
    "    sample (d:_) r p = lim d $ str (coeffs p !! 0) r\n",
    "    \n",
    "instance Rhythm Context where\n",
    "    sample (d:_) r c = lim d $ mean [str cf r | cf <- coeffs c]\n",
    "    \n",
    "instance Rhythm Stimulus where\n",
    "    sample (dc:dp:_) r (Stimulus c p) = flow [sample [dc] r c, sample [dp] r p]"
   ]
  },
  {
   "cell_type": "code",
   "execution_count": 53,
   "metadata": {
    "collapsed": false
   },
   "outputs": [],
   "source": [
    "class Sound a where\n",
    "    signal :: D -> [D] -> Sam -> a -> SE Sig2\n",
    "    \n",
    "instance Sound Stimulus where\n",
    "    signal t ds r s = fmap (setDur d) . runSam t $ sample ds r s\n",
    "        where d = (60 / t) * sum ds"
   ]
  },
  {
   "cell_type": "code",
   "execution_count": 54,
   "metadata": {
    "collapsed": false
   },
   "outputs": [
    {
     "data": {
      "text/plain": [
       "[Left (1 % 1),Left (16 % 15),Left (10 % 9),Left (6 % 5),Left (5 % 4),Left (4 % 3),Right 1.4142135623730951,Left (3 % 2),Left (8 % 5),Left (5 % 3),Left (9 % 5),Left (15 % 8)]"
      ]
     },
     "metadata": {},
     "output_type": "display_data"
    }
   ],
   "source": [
    "ratios ChromaticScale"
   ]
  },
  {
   "cell_type": "code",
   "execution_count": 55,
   "metadata": {
    "collapsed": false
   },
   "outputs": [
    {
     "data": {
      "text/plain": [
       "[Left (1 % 1),Left (5 % 4),Left (3 % 2)]"
      ]
     },
     "metadata": {},
     "output_type": "display_data"
    }
   ],
   "source": [
    "ratios CMajorTriad"
   ]
  },
  {
   "cell_type": "code",
   "execution_count": 56,
   "metadata": {
    "collapsed": false
   },
   "outputs": [
    {
     "data": {
      "text/plain": [
       "[Left (1 % 1),Left (6 % 5),Left (3 % 2)]"
      ]
     },
     "metadata": {},
     "output_type": "display_data"
    }
   ],
   "source": [
    "ratios CMinorTriad"
   ]
  },
  {
   "cell_type": "code",
   "execution_count": 57,
   "metadata": {
    "collapsed": false
   },
   "outputs": [],
   "source": [
    "contextChords = [CMajorTriad, CMinorTriad]\n",
    "probePitches  = pitches ChromaticScale"
   ]
  },
  {
   "cell_type": "markdown",
   "metadata": {},
   "source": [
    "Tempo (bpm):"
   ]
  },
  {
   "cell_type": "code",
   "execution_count": 58,
   "metadata": {
    "collapsed": false
   },
   "outputs": [],
   "source": [
    "tempo = 240\n",
    "tempo' = double tempo"
   ]
  },
  {
   "cell_type": "markdown",
   "metadata": {},
   "source": [
    "The context length (in beats) should be an integer multiple of this:"
   ]
  },
  {
   "cell_type": "code",
   "execution_count": 59,
   "metadata": {
    "collapsed": false
   },
   "outputs": [
    {
     "data": {
      "text/plain": [
       "20"
      ]
     },
     "metadata": {},
     "output_type": "display_data"
    }
   ],
   "source": [
    "cxtLenUnit = foldl1 lcm . map denominator . lefts . foldl1 (++) $ map ratios contextChords\n",
    "cxtLenUnit"
   ]
  },
  {
   "cell_type": "markdown",
   "metadata": {},
   "source": [
    "Context length (beats):"
   ]
  },
  {
   "cell_type": "code",
   "execution_count": 60,
   "metadata": {
    "collapsed": false
   },
   "outputs": [
    {
     "data": {
      "text/plain": [
       "40"
      ]
     },
     "metadata": {},
     "output_type": "display_data"
    }
   ],
   "source": [
    "cxtLen = 4 * fromIntegral cxtLenUnit\n",
    "cxtLen' = double cxtLen\n",
    "cxtLen"
   ]
  },
  {
   "cell_type": "markdown",
   "metadata": {},
   "source": [
    "Probe length (beats):"
   ]
  },
  {
   "cell_type": "code",
   "execution_count": 61,
   "metadata": {
    "collapsed": false
   },
   "outputs": [
    {
     "data": {
      "text/plain": [
       "20.0"
      ]
     },
     "metadata": {},
     "output_type": "display_data"
    }
   ],
   "source": [
    "prbLen = 0.5 * cxtLen\n",
    "prbLen' = double prbLen\n",
    "prbLen"
   ]
  },
  {
   "cell_type": "markdown",
   "metadata": {},
   "source": [
    "An infinite click train (60 bpm):"
   ]
  },
  {
   "cell_type": "code",
   "execution_count": 62,
   "metadata": {
    "collapsed": false
   },
   "outputs": [],
   "source": [
    "clickTrain = loop . fromSig1 1 $ ticks 1 1"
   ]
  },
  {
   "cell_type": "markdown",
   "metadata": {},
   "source": [
    "Stimuli:"
   ]
  },
  {
   "cell_type": "code",
   "execution_count": 63,
   "metadata": {
    "collapsed": false
   },
   "outputs": [
    {
     "data": {
      "text/plain": []
     },
     "metadata": {},
     "output_type": "display_data"
    }
   ],
   "source": [
    "stimuli = [Stimulus c p | c <- contextChords, p <- probePitches]\n",
    "signal' = signal tempo' [cxtLen', prbLen'] clickTrain\n",
    "mapM_ (\\s -> writeSnd (show s ++ \".wav\") (signal' s)) stimuli"
   ]
  },
  {
   "cell_type": "code",
   "execution_count": null,
   "metadata": {
    "collapsed": true
   },
   "outputs": [],
   "source": []
  }
 ],
 "metadata": {
  "kernelspec": {
   "display_name": "Haskell",
   "language": "haskell",
   "name": "haskell"
  },
  "language_info": {
   "codemirror_mode": "ihaskell",
   "file_extension": ".hs",
   "name": "haskell",
   "version": "7.10.2"
  }
 },
 "nbformat": 4,
 "nbformat_minor": 0
}
