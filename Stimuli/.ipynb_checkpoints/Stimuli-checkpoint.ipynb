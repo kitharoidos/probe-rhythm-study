{
 "cells": [
  {
   "cell_type": "markdown",
   "metadata": {},
   "source": [
    "# Stimuli"
   ]
  },
  {
   "cell_type": "code",
   "execution_count": 1,
   "metadata": {
    "collapsed": false
   },
   "outputs": [],
   "source": [
    "import Prelude as P\n",
    "\n",
    "import Csound.Catalog.Drum.MiniPops (rimShot', rimSpec)\n",
    "import Csound.Base as C\n",
    "import Csound.Sam.Chord (chMaj,)\n",
    "import Csound.Sam as S\n",
    "\n",
    "import Control.Monad (zipWithM_,)\n",
    "import Data.Array.Repa as A\n",
    "import Data.Array.Repa.Eval (fromList,)\n",
    "import Data.Array.Repa.Repr.Vector (V,)\n",
    "import Data.Ratio as R"
   ]
  },
  {
   "cell_type": "markdown",
   "metadata": {},
   "source": [
    "The lower half of the twelve-tone golden scale (G12):"
   ]
  },
  {
   "cell_type": "code",
   "execution_count": 2,
   "metadata": {
    "collapsed": false
   },
   "outputs": [
    {
     "data": {
      "text/plain": [
       "[16 % 15,10 % 9,6 % 5,5 % 4,4 % 3]"
      ]
     },
     "metadata": {},
     "output_type": "display_data"
    }
   ],
   "source": [
    "lowerG12 :: Array V DIM1 Rational\n",
    "lowerG12 = fromList (Z :. 5) [16%15, 10%9, 6%5, 5%4, 4%3]\n",
    "print $ toList lowerG12"
   ]
  },
  {
   "cell_type": "markdown",
   "metadata": {},
   "source": [
    "Tritonus:"
   ]
  },
  {
   "cell_type": "code",
   "execution_count": 8,
   "metadata": {
    "collapsed": false
   },
   "outputs": [],
   "source": [
    "tritonus :: C.D\n",
    "tritonus = sqrt 2"
   ]
  },
  {
   "cell_type": "markdown",
   "metadata": {},
   "source": [
    "The upper half of G12:"
   ]
  },
  {
   "cell_type": "code",
   "execution_count": 4,
   "metadata": {
    "collapsed": false
   },
   "outputs": [
    {
     "data": {
      "text/plain": [
       "[15 % 8,9 % 5,5 % 3,8 % 5,3 % 2]"
      ]
     },
     "metadata": {},
     "output_type": "display_data"
    }
   ],
   "source": [
    "upperG12 :: Array A.D DIM1 Rational\n",
    "upperG12 = A.map (2 /) lowerG12\n",
    "print $ toList upperG12"
   ]
  },
  {
   "cell_type": "markdown",
   "metadata": {},
   "source": [
    "Finally, the entire twelve-tone golden scale:"
   ]
  },
  {
   "cell_type": "code",
   "execution_count": 12,
   "metadata": {
    "collapsed": false
   },
   "outputs": [],
   "source": [
    "g12 :: Array V DIM1 C.D\n",
    "g12 = computeS $ traverse2 lowerG12 upperG12 transExtent newElem\n",
    "    where transExtent (Z :. i) (Z :. i') = ix1 $ i + 1 + i'\n",
    "          newElem get get' (Z :. i)\n",
    "              | i <  5    = fromRational . get  $ ix1 i\n",
    "              | i == 5    = tritonus\n",
    "              | otherwise = fromRational . get' $ ix1 i"
   ]
  },
  {
   "cell_type": "markdown",
   "metadata": {},
   "source": [
    "An infinite click train (60 bpm):"
   ]
  },
  {
   "cell_type": "code",
   "execution_count": 3,
   "metadata": {
    "collapsed": false
   },
   "outputs": [],
   "source": [
    "clickTrain = loop . fromSig1 1 $ ticks 1 1"
   ]
  },
  {
   "cell_type": "markdown",
   "metadata": {},
   "source": [
    "Context/probe length (beats):"
   ]
  },
  {
   "cell_type": "code",
   "execution_count": null,
   "metadata": {
    "collapsed": true
   },
   "outputs": [],
   "source": [
    "foldAllS lcm 1 . A.map denominator $ "
   ]
  },
  {
   "cell_type": "code",
   "execution_count": 4,
   "metadata": {
    "collapsed": false
   },
   "outputs": [],
   "source": [
    "nbeats = 20"
   ]
  },
  {
   "cell_type": "markdown",
   "metadata": {},
   "source": [
    "Tempo (bpm):"
   ]
  },
  {
   "cell_type": "code",
   "execution_count": 5,
   "metadata": {
    "collapsed": true
   },
   "outputs": [],
   "source": [
    "tempo = 120"
   ]
  },
  {
   "cell_type": "markdown",
   "metadata": {},
   "source": [
    "Stimulus duration:"
   ]
  },
  {
   "cell_type": "code",
   "execution_count": 6,
   "metadata": {
    "collapsed": false
   },
   "outputs": [
    {
     "data": {
      "text/plain": [
       "\"Each stimulus will be 20s long.\""
      ]
     },
     "metadata": {},
     "output_type": "display_data"
    }
   ],
   "source": [
    "duration = 60 * 2 * nbeats / tempo\n",
    "format (\"Each stimulus will be \" % float % \"s long.\") duration"
   ]
  },
  {
   "cell_type": "markdown",
   "metadata": {},
   "source": [
    "Context:"
   ]
  },
  {
   "cell_type": "code",
   "execution_count": 7,
   "metadata": {
    "collapsed": false
   },
   "outputs": [],
   "source": [
    "context = lim nbeats $ mean [str (intvToRat intv) clickTrain | intv <- chMaj]"
   ]
  },
  {
   "cell_type": "markdown",
   "metadata": {},
   "source": [
    "Probes:"
   ]
  },
  {
   "cell_type": "code",
   "execution_count": 8,
   "metadata": {
    "collapsed": false
   },
   "outputs": [],
   "source": [
    "probes = [lim nbeats $ str (intvToRat $ fromIntegral intv) clickTrain | intv <- [0 .. 11]]"
   ]
  },
  {
   "cell_type": "markdown",
   "metadata": {},
   "source": [
    "Stimuli:"
   ]
  },
  {
   "cell_type": "code",
   "execution_count": 9,
   "metadata": {
    "collapsed": false
   },
   "outputs": [
    {
     "data": {
      "text/plain": []
     },
     "metadata": {},
     "output_type": "display_data"
    }
   ],
   "source": [
    "stimuli = [fmap (setDur duration) . runSam tempo $ flow [context, probe] | probe <- probes]\n",
    "probeLabels = [\"C\", \"C#\", \"D\", \"D#\", \"E\", \"F\", \"F#\", \"G\", \"G#\", \"A\", \"A#\", \"B\"]\n",
    "fileNames = map (\\probeLabel -> show $ format (\"< C E G > \" % F.text % \".wav\") probeLabel) probeLabels\n",
    "zipWithM_ writeSnd fileNames stimuli"
   ]
  },
  {
   "cell_type": "code",
   "execution_count": null,
   "metadata": {
    "collapsed": true
   },
   "outputs": [],
   "source": []
  }
 ],
 "metadata": {
  "kernelspec": {
   "display_name": "Haskell",
   "language": "haskell",
   "name": "haskell"
  },
  "language_info": {
   "codemirror_mode": "ihaskell",
   "file_extension": ".hs",
   "name": "haskell",
   "version": "7.10.2"
  }
 },
 "nbformat": 4,
 "nbformat_minor": 0
}
