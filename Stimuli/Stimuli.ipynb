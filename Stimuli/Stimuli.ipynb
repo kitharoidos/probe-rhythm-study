{
 "cells": [
  {
   "cell_type": "markdown",
   "metadata": {},
   "source": [
    "# Stimuli"
   ]
  },
  {
   "cell_type": "code",
   "execution_count": 25,
   "metadata": {
    "collapsed": false
   },
   "outputs": [],
   "source": [
    "import Prelude as P\n",
    "\n",
    "import Csound.Base as C\n",
    "import Csound.Sam as S\n",
    "\n",
    "import Control.Monad (mapM_,)\n",
    "import Data.Ratio as R\n",
    "import Data.Either as E"
   ]
  },
  {
   "cell_type": "code",
   "execution_count": 26,
   "metadata": {
    "collapsed": false
   },
   "outputs": [],
   "source": [
    "data Context = CMajorTriad | CMinorTriad deriving (Eq, Show)\n",
    "\n",
    "data Pitch = C | Des | D | Es | E | F | Fis | G | As | A | Bb | B deriving (Show, Eq, Enum)\n",
    "data ChromaticScale = ChromaticScale deriving (Show, Eq)\n",
    "type Probe = Pitch\n",
    "\n",
    "data Stimulus = Stimulus Context Probe deriving Eq\n",
    "instance Show Stimulus where\n",
    "    show (Stimulus c p) = show c ++ \"-\" ++ show p"
   ]
  },
  {
   "cell_type": "code",
   "execution_count": 27,
   "metadata": {
    "collapsed": false
   },
   "outputs": [],
   "source": [
    "class Element a where\n",
    "    pitches :: a -> [Pitch]\n",
    "\n",
    "instance Element Pitch where\n",
    "    pitches p = [p]\n",
    "    \n",
    "instance Element ChromaticScale where\n",
    "    pitches ChromaticScale = [C, Des, D, Es, E, F, Fis, G, As, A, Bb, B]\n",
    "    \n",
    "instance Element Context where\n",
    "    pitches CMajorTriad = [C, E,  G]\n",
    "    pitches CMinorTriad = [C, Es, G]"
   ]
  },
  {
   "cell_type": "code",
   "execution_count": 28,
   "metadata": {
    "collapsed": false
   },
   "outputs": [],
   "source": [
    "class Golden12 a where\n",
    "    ratios :: a -> [Either Rational Double]\n",
    "    coeffs :: a -> [D]\n",
    "    coeffs x = map coeff $ ratios x\n",
    "        where coeff (Left  r) = fromRational r\n",
    "              coeff (Right d) = double d\n",
    "    period :: Num b => a -> b\n",
    "    period e = fromIntegral . foldl lcm 1 . map denominator . lefts $ ratios e\n",
    "\n",
    "instance Element a => Golden12 a where\n",
    "    ratios e = map ((g12 !!) . fromEnum) $ pitches e\n",
    "        where lowerG12 = [1%1, 16%15, 10%9, 6%5, 5%4, 4%3]\n",
    "              tritonus = sqrt 2\n",
    "              upperG12 = reverse $ map (2 /) lowerG12\n",
    "              g12      = map Left lowerG12 ++ [Right tritonus] ++ map Left upperG12"
   ]
  },
  {
   "cell_type": "code",
   "execution_count": 29,
   "metadata": {
    "collapsed": false
   },
   "outputs": [],
   "source": [
    "class ToSamples a where\n",
    "    toSamples :: [D] -> a -> Either Sam (Sam, Sam)\n",
    "\n",
    "instance ToSamples Pitch where\n",
    "    toSamples (d:_) p = Left . lim d . str (head $ coeffs p) . loop . fromSig1 1 $ ticks 1 1\n",
    "    \n",
    "instance ToSamples Context where\n",
    "    toSamples (d:_) c = Left . mean . lefts . map (toSamples [d]) $ pitches c\n",
    "    \n",
    "instance ToSamples Stimulus where\n",
    "    toSamples (dc:dp:_) (Stimulus c p) = Right (cxt, del dc prb)\n",
    "        where Left cxt = toSamples [dc + dp] c\n",
    "              Left prb = toSamples [dp] p"
   ]
  },
  {
   "cell_type": "code",
   "execution_count": 30,
   "metadata": {
    "collapsed": false
   },
   "outputs": [],
   "source": [
    "class ToSignal a where\n",
    "    toSignal :: D -> [D] -> a -> SE Sig2\n",
    "    \n",
    "instance ToSignal Stimulus where\n",
    "    toSignal t ds s = do let Right (cxt, prb) = toSamples ds s\n",
    "                         (cxtSig, _) <- runSam t cxt\n",
    "                         (_, prbSig) <- runSam t prb\n",
    "                         let d = (60 / t) * sum ds\n",
    "                         return $ setDur d (cxtSig, prbSig)"
   ]
  },
  {
   "cell_type": "code",
   "execution_count": 32,
   "metadata": {
    "collapsed": false
   },
   "outputs": [
    {
     "data": {
      "text/plain": [
       "[Left (1 % 1),Left (16 % 15),Left (10 % 9),Left (6 % 5),Left (5 % 4),Left (4 % 3),Right 1.4142135623730951,Left (3 % 2),Left (8 % 5),Left (5 % 3),Left (9 % 5),Left (15 % 8)]"
      ]
     },
     "metadata": {},
     "output_type": "display_data"
    }
   ],
   "source": [
    "ratios ChromaticScale"
   ]
  },
  {
   "cell_type": "code",
   "execution_count": 33,
   "metadata": {
    "collapsed": false
   },
   "outputs": [
    {
     "data": {
      "text/plain": [
       "[Left (1 % 1),Left (5 % 4),Left (3 % 2)]"
      ]
     },
     "metadata": {},
     "output_type": "display_data"
    }
   ],
   "source": [
    "ratios CMajorTriad"
   ]
  },
  {
   "cell_type": "code",
   "execution_count": 34,
   "metadata": {
    "collapsed": false
   },
   "outputs": [
    {
     "data": {
      "text/plain": [
       "[Left (1 % 1),Left (6 % 5),Left (3 % 2)]"
      ]
     },
     "metadata": {},
     "output_type": "display_data"
    }
   ],
   "source": [
    "ratios CMinorTriad"
   ]
  },
  {
   "cell_type": "code",
   "execution_count": 35,
   "metadata": {
    "collapsed": false
   },
   "outputs": [],
   "source": [
    "contextChords = [CMajorTriad, CMinorTriad]\n",
    "probePitches  = pitches ChromaticScale"
   ]
  },
  {
   "cell_type": "markdown",
   "metadata": {},
   "source": [
    "Tempo (bpm):"
   ]
  },
  {
   "cell_type": "code",
   "execution_count": 36,
   "metadata": {
    "collapsed": false
   },
   "outputs": [],
   "source": [
    "tempo = 120"
   ]
  },
  {
   "cell_type": "markdown",
   "metadata": {},
   "source": [
    "Context length (periods):"
   ]
  },
  {
   "cell_type": "code",
   "execution_count": 37,
   "metadata": {
    "collapsed": false
   },
   "outputs": [],
   "source": [
    "cxtLen = 2"
   ]
  },
  {
   "cell_type": "markdown",
   "metadata": {},
   "source": [
    "Probe length (context periods):"
   ]
  },
  {
   "cell_type": "code",
   "execution_count": 38,
   "metadata": {
    "collapsed": false
   },
   "outputs": [],
   "source": [
    "prbLen = 2 * cxtLen"
   ]
  },
  {
   "cell_type": "markdown",
   "metadata": {},
   "source": [
    "Stimuli:"
   ]
  },
  {
   "cell_type": "code",
   "execution_count": 39,
   "metadata": {
    "collapsed": false
   },
   "outputs": [
    {
     "data": {
      "text/plain": []
     },
     "metadata": {},
     "output_type": "display_data"
    }
   ],
   "source": [
    "stimuli = [(Stimulus c p, period c) | c <- contextChords, p <- probePitches]\n",
    "mapM_ (\\(s, p) -> writeSnd (show s ++ \".wav\") (toSignal tempo [cxtLen * p, prbLen * p] s)) stimuli"
   ]
  },
  {
   "cell_type": "code",
   "execution_count": null,
   "metadata": {
    "collapsed": true
   },
   "outputs": [],
   "source": []
  }
 ],
 "metadata": {
  "kernelspec": {
   "display_name": "Haskell",
   "language": "haskell",
   "name": "haskell"
  },
  "language_info": {
   "codemirror_mode": "ihaskell",
   "file_extension": ".hs",
   "name": "haskell",
   "version": "7.10.2"
  }
 },
 "nbformat": 4,
 "nbformat_minor": 0
}
