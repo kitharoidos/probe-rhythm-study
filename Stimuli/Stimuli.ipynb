{
 "cells": [
  {
   "cell_type": "markdown",
   "metadata": {},
   "source": [
    "# Stimuli"
   ]
  },
  {
   "cell_type": "code",
   "execution_count": 2,
   "metadata": {
    "collapsed": false
   },
   "outputs": [],
   "source": [
    "import Prelude as P\n",
    "\n",
    "import Csound.Catalog.Drum.MiniPops (rimShot', rimSpec)\n",
    "import Csound.Base as C\n",
    "import Csound.Sam.Chord (chMaj,)\n",
    "import Csound.Sam as S\n",
    "\n",
    "import Control.Monad (zipWithM_,)\n",
    "import Data.Ratio as R\n",
    "import Data.Either as E"
   ]
  },
  {
   "cell_type": "markdown",
   "metadata": {},
   "source": [
    "The lower half of the twelve-tone golden scale (G12):"
   ]
  },
  {
   "cell_type": "code",
   "execution_count": 9,
   "metadata": {
    "collapsed": false
   },
   "outputs": [],
   "source": [
    "lowerG12 :: [Rational]\n",
    "lowerG12 = [1%1, 16%15, 10%9, 6%5, 5%4, 4%3]"
   ]
  },
  {
   "cell_type": "markdown",
   "metadata": {},
   "source": [
    "Tritonus:"
   ]
  },
  {
   "cell_type": "code",
   "execution_count": 10,
   "metadata": {
    "collapsed": false
   },
   "outputs": [],
   "source": [
    "tritonus :: Double\n",
    "tritonus = sqrt 2"
   ]
  },
  {
   "cell_type": "markdown",
   "metadata": {},
   "source": [
    "The upper half of G12:"
   ]
  },
  {
   "cell_type": "code",
   "execution_count": 11,
   "metadata": {
    "collapsed": false
   },
   "outputs": [
    {
     "data": {
      "text/plain": [
       "[3 % 2,8 % 5,5 % 3,9 % 5,15 % 8,2 % 1]"
      ]
     },
     "metadata": {},
     "output_type": "display_data"
    }
   ],
   "source": [
    "upperG12 :: [Rational]\n",
    "upperG12 = reverse $ map (2 /) lowerG12\n",
    "upperG12"
   ]
  },
  {
   "cell_type": "markdown",
   "metadata": {},
   "source": [
    "Finally, the entire twelve-tone golden scale:"
   ]
  },
  {
   "cell_type": "code",
   "execution_count": 33,
   "metadata": {
    "collapsed": false
   },
   "outputs": [
    {
     "data": {
      "text/plain": [
       "[Left (1 % 1),Left (16 % 15),Left (10 % 9),Left (6 % 5),Left (5 % 4),Left (4 % 3),Right 1.4142135623730951,Left (3 % 2),Left (8 % 5),Left (5 % 3),Left (9 % 5),Left (15 % 8),Left (2 % 1)]"
      ]
     },
     "metadata": {},
     "output_type": "display_data"
    }
   ],
   "source": [
    "g12 :: [Either Rational Double]\n",
    "g12 = map Left lowerG12 ++ [Right tritonus] ++ map Left upperG12\n",
    "\n",
    "g12' :: [D]\n",
    "g12' = map f g12\n",
    "    where f (Left  r) = fromRational r\n",
    "          f (Right d) = double d\n",
    "\n",
    "g12"
   ]
  },
  {
   "cell_type": "markdown",
   "metadata": {},
   "source": [
    "Major triad:"
   ]
  },
  {
   "cell_type": "code",
   "execution_count": 34,
   "metadata": {
    "collapsed": false
   },
   "outputs": [
    {
     "data": {
      "text/plain": [
       "[1 % 1,5 % 4,3 % 2]"
      ]
     },
     "metadata": {},
     "output_type": "display_data"
    }
   ],
   "source": [
    "maj3 :: [Rational]\n",
    "maj3 = lefts $ map (g12 !!) [0, 4, 7]\n",
    "\n",
    "maj3' :: [D]\n",
    "maj3' = map fromRational maj3\n",
    "\n",
    "maj3"
   ]
  },
  {
   "cell_type": "markdown",
   "metadata": {},
   "source": [
    "The major context length (in beats) should be an integer multiple of this:"
   ]
  },
  {
   "cell_type": "code",
   "execution_count": 17,
   "metadata": {
    "collapsed": false
   },
   "outputs": [
    {
     "data": {
      "text/plain": [
       "4"
      ]
     },
     "metadata": {},
     "output_type": "display_data"
    }
   ],
   "source": [
    "majCxtLenUnit :: Integer\n",
    "majCxtLenUnit = foldl1 lcm $ map denominator maj3\n",
    "majCxtLenUnit"
   ]
  },
  {
   "cell_type": "markdown",
   "metadata": {},
   "source": [
    "Minor triad:"
   ]
  },
  {
   "cell_type": "code",
   "execution_count": 35,
   "metadata": {
    "collapsed": false
   },
   "outputs": [
    {
     "data": {
      "text/plain": [
       "[1 % 1,6 % 5,3 % 2]"
      ]
     },
     "metadata": {},
     "output_type": "display_data"
    }
   ],
   "source": [
    "min3 :: [Rational]\n",
    "min3 = lefts $ map (g12 !!) [0, 3, 7]\n",
    "\n",
    "min3' :: [D]\n",
    "min3' = map fromRational min3\n",
    "\n",
    "min3"
   ]
  },
  {
   "cell_type": "markdown",
   "metadata": {},
   "source": [
    "The minor context length (in beats) should be an integer multiple of this:"
   ]
  },
  {
   "cell_type": "code",
   "execution_count": 18,
   "metadata": {
    "collapsed": false
   },
   "outputs": [
    {
     "data": {
      "text/plain": [
       "10"
      ]
     },
     "metadata": {},
     "output_type": "display_data"
    }
   ],
   "source": [
    "minCxtLenUnit :: Integer\n",
    "minCxtLenUnit = foldl1 lcm $ map denominator min3\n",
    "minCxtLenUnit"
   ]
  },
  {
   "cell_type": "markdown",
   "metadata": {},
   "source": [
    "The context length (in beats) should be an integer multiple of this:"
   ]
  },
  {
   "cell_type": "code",
   "execution_count": 24,
   "metadata": {
    "collapsed": false
   },
   "outputs": [
    {
     "data": {
      "text/plain": [
       "20"
      ]
     },
     "metadata": {},
     "output_type": "display_data"
    }
   ],
   "source": [
    "cxtLenUnit :: Integer\n",
    "cxtLenUnit = lcm majCxtLenUnit minCxtLenUnit\n",
    "cxtLenUnit"
   ]
  },
  {
   "cell_type": "markdown",
   "metadata": {},
   "source": [
    "Context/probe length (beats):"
   ]
  },
  {
   "cell_type": "code",
   "execution_count": 30,
   "metadata": {
    "collapsed": false
   },
   "outputs": [
    {
     "data": {
      "text/plain": [
       "20.0"
      ]
     },
     "metadata": {},
     "output_type": "display_data"
    }
   ],
   "source": [
    "elemLen :: Double\n",
    "elemLen = 1 * fromIntegral cxtLenUnit\n",
    "\n",
    "elemLen' :: D\n",
    "elemLen' = double elemLen\n",
    "\n",
    "elemLen"
   ]
  },
  {
   "cell_type": "markdown",
   "metadata": {},
   "source": [
    "Tempo (bpm):"
   ]
  },
  {
   "cell_type": "code",
   "execution_count": 31,
   "metadata": {
    "collapsed": true
   },
   "outputs": [],
   "source": [
    "tempo :: Double\n",
    "tempo = 120\n",
    "\n",
    "tempo' :: D\n",
    "tempo' = double tempo"
   ]
  },
  {
   "cell_type": "markdown",
   "metadata": {},
   "source": [
    "Stimulus duration (s):"
   ]
  },
  {
   "cell_type": "code",
   "execution_count": 32,
   "metadata": {
    "collapsed": false
   },
   "outputs": [
    {
     "data": {
      "text/plain": [
       "20.0"
      ]
     },
     "metadata": {},
     "output_type": "display_data"
    }
   ],
   "source": [
    "duration :: Double\n",
    "duration = 60 * 2 * elemLen / tempo\n",
    "\n",
    "duration' :: D\n",
    "duration' = double duration\n",
    "\n",
    "duration"
   ]
  },
  {
   "cell_type": "markdown",
   "metadata": {},
   "source": [
    "An infinite click train (60 bpm):"
   ]
  },
  {
   "cell_type": "code",
   "execution_count": 37,
   "metadata": {
    "collapsed": false
   },
   "outputs": [],
   "source": [
    "clickTrain = loop . fromSig1 1 $ ticks 1 1"
   ]
  },
  {
   "cell_type": "markdown",
   "metadata": {},
   "source": [
    "Major context:"
   ]
  },
  {
   "cell_type": "code",
   "execution_count": 38,
   "metadata": {
    "collapsed": false
   },
   "outputs": [],
   "source": [
    "majCxt = lim elemLen' $ mean [str r clickTrain | r <- maj3']"
   ]
  },
  {
   "cell_type": "markdown",
   "metadata": {},
   "source": [
    "Minor context:"
   ]
  },
  {
   "cell_type": "code",
   "execution_count": 39,
   "metadata": {
    "collapsed": true
   },
   "outputs": [],
   "source": [
    "minCxt = lim elemLen' $ mean [str r clickTrain | r <- min3']"
   ]
  },
  {
   "cell_type": "markdown",
   "metadata": {},
   "source": [
    "Probes:"
   ]
  },
  {
   "cell_type": "code",
   "execution_count": 40,
   "metadata": {
    "collapsed": false
   },
   "outputs": [],
   "source": [
    "probes = [lim elemLen' $ str r clickTrain | r <- g12']"
   ]
  },
  {
   "cell_type": "markdown",
   "metadata": {},
   "source": [
    "Stimuli:"
   ]
  },
  {
   "cell_type": "code",
   "execution_count": 9,
   "metadata": {
    "collapsed": false
   },
   "outputs": [
    {
     "data": {
      "text/plain": []
     },
     "metadata": {},
     "output_type": "display_data"
    }
   ],
   "source": [
    "stimuli = [fmap (setDur duration') . runSam tempo' $ flow [context, probe] | probe <- probes]\n",
    "probeLabels = [\"C\", \"C#\", \"D\", \"D#\", \"E\", \"F\", \"F#\", \"G\", \"G#\", \"A\", \"A#\", \"B\"]\n",
    "fileNames = map (\\probeLabel -> show $ format (\"< C E G > \" % F.text % \".wav\") probeLabel) probeLabels\n",
    "zipWithM_ writeSnd fileNames stimuli"
   ]
  },
  {
   "cell_type": "code",
   "execution_count": null,
   "metadata": {
    "collapsed": true
   },
   "outputs": [],
   "source": []
  }
 ],
 "metadata": {
  "kernelspec": {
   "display_name": "Haskell",
   "language": "haskell",
   "name": "haskell"
  },
  "language_info": {
   "codemirror_mode": "ihaskell",
   "file_extension": ".hs",
   "name": "haskell",
   "version": "7.10.2"
  }
 },
 "nbformat": 4,
 "nbformat_minor": 0
}
