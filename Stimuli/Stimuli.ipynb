{
 "cells": [
  {
   "cell_type": "markdown",
   "metadata": {},
   "source": [
    "# Stimuli"
   ]
  },
  {
   "cell_type": "code",
   "execution_count": 45,
   "metadata": {
    "collapsed": false
   },
   "outputs": [],
   "source": [
    "import Prelude as P\n",
    "\n",
    "import Data.Array.Repa as Arr\n",
    "import Data.Array.Repa.Repr.Vector (V,)\n",
    "import Data.Array.Repa.Eval (fromList,)\n",
    "\n",
    "import Formatting as Fmt\n",
    "\n",
    "import Temporal.Music as Mus\n",
    "import Temporal.Music.Scales as Sc"
   ]
  },
  {
   "cell_type": "code",
   "execution_count": 56,
   "metadata": {
    "collapsed": false
   },
   "outputs": [],
   "source": [
    "scaleNames :: Array V DIM1 String\n",
    "scaleNames = fromList (Z :. 2) [\"12TET\", \"12TFarey\"]\n",
    "\n",
    "scaleGenerators :: Array V DIM1 (Hz -> Scale)\n",
    "scaleGenerators = fromList (Z :. 2) [eqt, farey]\n",
    "    where farey = fromIntervals 2 [1/1, 16/15, 9/8, 6/5, 5/4, 4/3, 17/12, 3/2, 8/5, 5/3, 16/9, 15/8]\n",
    "\n",
    "scaleBases :: Array V DIM1 Hz\n",
    "scaleBases = fromList (Z :. 7) $ P.map (scaleAt (eqt 2)) [0, 1, 2, 3, 4, 5, 6]\n",
    "\n",
    "scales :: Array D DIM2 Scale\n",
    "scales = traverse2 scaleGenerators scaleBases fs fe\n",
    "    where fs (Z :. ng) (Z :. nb) = Z :. ng :. nb\n",
    "          fe g b (Z :. ig :. ib) = g (Z :. ig) $ b (Z :. ib)\n",
    "          \n",
    "contextNotes :: Array D DIM2 [Score (Note a)]\n",
    "contextNotes = Arr.map f scales\n",
    "    where f s = P.map (setScale s . nx) [0, 4, 7]\n",
    "    \n",
    "probeSteps :: Array V DIM1 Step\n",
    "probeSteps = fromList (Z :. 12) [0 .. 11]\n",
    "    \n",
    "probeNotes :: Array D DIM3 (Score (Note a))\n",
    "probeNotes = traverse2 scales probeSteps fs fe\n",
    "    where fs (Z :. ng :. nb) (Z :. nst) = Z :. ng :. nb :. nst\n",
    "          fe sc st (Z :. ig :. ib :. ist) = setScale (sc (Z :. ig :. ib)) $ nx (st (Z :. ist))\n",
    "          \n",
    "stimulusChords :: Array D DIM3 (Score (Note a))\n",
    "stimulusChords = Arr.zipWith f contextNotes' probeNotes\n",
    "    where f cns pn = setLevel 1 . str 10 $ har (pn:cns)\n",
    "          contextNotes' = extend (Z :. Arr.All :. Arr.All :. (12::Int)) contextNotes\n",
    "          \n",
    "stimulusFileNames :: Array D DIM3 String\n",
    "stimulusFileNames = traverse3 scaleNames scaleBases probeSteps fs fe\n",
    "    where fs (Z :. ng) (Z :. nb) (Z :. nst) = Z :. ng :. nb :. nst\n",
    "          fe n b st (Z :. ig :. ib :. ist) =\n",
    "              formatToString (string % \"-\" % fixed 3 % \"-\" % int % \".wav\") (n (Z :. ig)) (b (Z :. ib)) (st (Z :. ist))"
   ]
  },
  {
   "cell_type": "code",
   "execution_count": 9,
   "metadata": {
    "collapsed": false
   },
   "outputs": [
    {
     "data": {
      "text/plain": [
       "[Event {eventStart = 0.0, eventDur = 10.0, eventContent = Note {noteVolume = Volume {volumeDiap = Diap {diapRange = (1.0e-5,1.0), diapLim = 5}, volumeAccent = 0.0, volumeLevel = 1}, notePitch = Pitch {pitchScale = Scale {scaleBase = 2.0, scaleOctave = 2.0, scaleSteps = [1.0,1.0594630943592953,1.122462048309373,1.189207115002721,1.2599210498948732,1.3348398541700344,1.4142135623730951,1.4983070768766815,1.5874010519681994,1.681792830507429,1.7817974362806785,1.8877486253633868]}, pitchBend = 0.0, pitchOctave = 0, pitchStep = 0}, noteParam = Nothing}},Event {eventStart = 0.0, eventDur = 10.0, eventContent = Note {noteVolume = Volume {volumeDiap = Diap {diapRange = (1.0e-5,1.0), diapLim = 5}, volumeAccent = 0.0, volumeLevel = 1}, notePitch = Pitch {pitchScale = Scale {scaleBase = 2.0, scaleOctave = 2.0, scaleSteps = [1.0,1.0594630943592953,1.122462048309373,1.189207115002721,1.2599210498948732,1.3348398541700344,1.4142135623730951,1.4983070768766815,1.5874010519681994,1.681792830507429,1.7817974362806785,1.8877486253633868]}, pitchBend = 0.0, pitchOctave = 0, pitchStep = 0}, noteParam = Nothing}},Event {eventStart = 0.0, eventDur = 10.0, eventContent = Note {noteVolume = Volume {volumeDiap = Diap {diapRange = (1.0e-5,1.0), diapLim = 5}, volumeAccent = 0.0, volumeLevel = 1}, notePitch = Pitch {pitchScale = Scale {scaleBase = 2.0, scaleOctave = 2.0, scaleSteps = [1.0,1.0594630943592953,1.122462048309373,1.189207115002721,1.2599210498948732,1.3348398541700344,1.4142135623730951,1.4983070768766815,1.5874010519681994,1.681792830507429,1.7817974362806785,1.8877486253633868]}, pitchBend = 0.0, pitchOctave = 0, pitchStep = 4}, noteParam = Nothing}},Event {eventStart = 0.0, eventDur = 10.0, eventContent = Note {noteVolume = Volume {volumeDiap = Diap {diapRange = (1.0e-5,1.0), diapLim = 5}, volumeAccent = 0.0, volumeLevel = 1}, notePitch = Pitch {pitchScale = Scale {scaleBase = 2.0, scaleOctave = 2.0, scaleSteps = [1.0,1.0594630943592953,1.122462048309373,1.189207115002721,1.2599210498948732,1.3348398541700344,1.4142135623730951,1.4983070768766815,1.5874010519681994,1.681792830507429,1.7817974362806785,1.8877486253633868]}, pitchBend = 0.0, pitchOctave = 0, pitchStep = 7}, noteParam = Nothing}}]"
      ]
     },
     "metadata": {},
     "output_type": "display_data"
    }
   ],
   "source": [
    "render $ head stimulusChords"
   ]
  },
  {
   "cell_type": "code",
   "execution_count": 41,
   "metadata": {
    "collapsed": false
   },
   "outputs": [],
   "source": [
    "import Prelude as P\n",
    "\n",
    "import Csound.Base as C\n",
    "import Csound.Sam as S\n",
    "\n",
    "import Control.Monad (mapM_,)"
   ]
  },
  {
   "cell_type": "code",
   "execution_count": 42,
   "metadata": {
    "collapsed": false
   },
   "outputs": [],
   "source": [
    "data Pitch = C | Cis | D | Dis | E | F | Fis | G | Gis | A | Ais | B deriving (Show, Eq, Enum)\n",
    "\n",
    "data ChromaticScale = ChromaticScale deriving (Show, Eq)\n",
    "\n",
    "data Context = MajorTriad Pitch deriving Eq\n",
    "instance Show Context where\n",
    "    show (MajorTriad p) = show p ++ \"MajorTriad\"\n",
    "\n",
    "type Probe = Pitch\n",
    "\n",
    "data Stimulus = Stimulus Context Probe deriving Eq\n",
    "instance Show Stimulus where\n",
    "    show (Stimulus c p) = show c ++ \"-\" ++ show p"
   ]
  },
  {
   "cell_type": "code",
   "execution_count": 45,
   "metadata": {
    "collapsed": false
   },
   "outputs": [
    {
     "data": {
      "text/plain": [
       "C"
      ]
     },
     "metadata": {},
     "output_type": "display_data"
    }
   ],
   "source": [
    "toEnum (mod 12 12) :: Pitch"
   ]
  },
  {
   "cell_type": "code",
   "execution_count": 27,
   "metadata": {
    "collapsed": false
   },
   "outputs": [],
   "source": [
    "class Element a where\n",
    "    pitches :: a -> [Pitch]\n",
    "\n",
    "instance Element Pitch where\n",
    "    pitches p = [p]\n",
    "    \n",
    "instance Element ChromaticScale where\n",
    "    pitches ChromaticScale = [C, Des, D, Es, E, F, Fis, G, As, A, Bb, B]\n",
    "    \n",
    "instance Element Context where\n",
    "    pitches CMajorTriad = [C, E, G]"
   ]
  },
  {
   "cell_type": "code",
   "execution_count": 28,
   "metadata": {
    "collapsed": false
   },
   "outputs": [],
   "source": [
    "class Golden12 a where\n",
    "    ratios :: a -> [Either Rational Double]\n",
    "    coeffs :: a -> [D]\n",
    "    coeffs x = map coeff $ ratios x\n",
    "        where coeff (Left  r) = fromRational r\n",
    "              coeff (Right d) = double d\n",
    "    period :: Num b => a -> b\n",
    "    period e = fromIntegral . foldl lcm 1 . map denominator . lefts $ ratios e\n",
    "\n",
    "instance Element a => Golden12 a where\n",
    "    ratios e = map ((g12 !!) . fromEnum) $ pitches e\n",
    "        where lowerG12 = [1%1, 16%15, 10%9, 6%5, 5%4, 4%3]\n",
    "              tritonus = sqrt 2\n",
    "              upperG12 = reverse $ map (2 /) lowerG12\n",
    "              g12      = map Left lowerG12 ++ [Right tritonus] ++ map Left upperG12"
   ]
  },
  {
   "cell_type": "code",
   "execution_count": 29,
   "metadata": {
    "collapsed": false
   },
   "outputs": [],
   "source": [
    "class ToSamples a where\n",
    "    toSamples :: [D] -> a -> Either Sam (Sam, Sam)\n",
    "\n",
    "instance ToSamples Pitch where\n",
    "    toSamples (d:_) p = Left . lim d . str (head $ coeffs p) . loop . fromSig1 1 $ ticks 1 1\n",
    "    \n",
    "instance ToSamples Context where\n",
    "    toSamples (d:_) c = Left . mean . lefts . map (toSamples [d]) $ pitches c\n",
    "    \n",
    "instance ToSamples Stimulus where\n",
    "    toSamples (dc:dp:_) (Stimulus c p) = Right (cxt, del dc prb)\n",
    "        where Left cxt = toSamples [dc + dp] c\n",
    "              Left prb = toSamples [dp] p"
   ]
  },
  {
   "cell_type": "code",
   "execution_count": 30,
   "metadata": {
    "collapsed": false
   },
   "outputs": [],
   "source": [
    "class ToSignal a where\n",
    "    toSignal :: D -> [D] -> a -> SE Sig2\n",
    "    \n",
    "instance ToSignal Stimulus where\n",
    "    toSignal t ds s = do let Right (cxt, prb) = toSamples ds s\n",
    "                         (cxtSig, _) <- runSam t cxt\n",
    "                         (_, prbSig) <- runSam t prb\n",
    "                         let d = (60 / t) * sum ds\n",
    "                         return $ setDur d (cxtSig, prbSig)"
   ]
  },
  {
   "cell_type": "code",
   "execution_count": 32,
   "metadata": {
    "collapsed": false
   },
   "outputs": [
    {
     "data": {
      "text/plain": [
       "[Left (1 % 1),Left (16 % 15),Left (10 % 9),Left (6 % 5),Left (5 % 4),Left (4 % 3),Right 1.4142135623730951,Left (3 % 2),Left (8 % 5),Left (5 % 3),Left (9 % 5),Left (15 % 8)]"
      ]
     },
     "metadata": {},
     "output_type": "display_data"
    }
   ],
   "source": [
    "ratios ChromaticScale"
   ]
  },
  {
   "cell_type": "code",
   "execution_count": 33,
   "metadata": {
    "collapsed": false
   },
   "outputs": [
    {
     "data": {
      "text/plain": [
       "[Left (1 % 1),Left (5 % 4),Left (3 % 2)]"
      ]
     },
     "metadata": {},
     "output_type": "display_data"
    }
   ],
   "source": [
    "ratios CMajorTriad"
   ]
  },
  {
   "cell_type": "code",
   "execution_count": 34,
   "metadata": {
    "collapsed": false
   },
   "outputs": [
    {
     "data": {
      "text/plain": [
       "[Left (1 % 1),Left (6 % 5),Left (3 % 2)]"
      ]
     },
     "metadata": {},
     "output_type": "display_data"
    }
   ],
   "source": [
    "ratios CMinorTriad"
   ]
  },
  {
   "cell_type": "code",
   "execution_count": 35,
   "metadata": {
    "collapsed": false
   },
   "outputs": [],
   "source": [
    "contextChords = [CMajorTriad, CMinorTriad]\n",
    "probePitches  = pitches ChromaticScale"
   ]
  },
  {
   "cell_type": "markdown",
   "metadata": {},
   "source": [
    "Tempo (bpm):"
   ]
  },
  {
   "cell_type": "code",
   "execution_count": 36,
   "metadata": {
    "collapsed": false
   },
   "outputs": [],
   "source": [
    "tempo = 120"
   ]
  },
  {
   "cell_type": "markdown",
   "metadata": {},
   "source": [
    "Context length (periods):"
   ]
  },
  {
   "cell_type": "code",
   "execution_count": 37,
   "metadata": {
    "collapsed": false
   },
   "outputs": [],
   "source": [
    "cxtLen = 2"
   ]
  },
  {
   "cell_type": "markdown",
   "metadata": {},
   "source": [
    "Probe length (context periods):"
   ]
  },
  {
   "cell_type": "code",
   "execution_count": 38,
   "metadata": {
    "collapsed": false
   },
   "outputs": [],
   "source": [
    "prbLen = 2 * cxtLen"
   ]
  },
  {
   "cell_type": "markdown",
   "metadata": {},
   "source": [
    "Stimuli:"
   ]
  },
  {
   "cell_type": "code",
   "execution_count": 39,
   "metadata": {
    "collapsed": false
   },
   "outputs": [
    {
     "data": {
      "text/plain": []
     },
     "metadata": {},
     "output_type": "display_data"
    }
   ],
   "source": [
    "stimuli = [(Stimulus c p, period c) | c <- contextChords, p <- probePitches]\n",
    "mapM_ (\\(s, p) -> writeSnd (show s ++ \".wav\") (toSignal tempo [cxtLen * p, prbLen * p] s)) stimuli"
   ]
  },
  {
   "cell_type": "code",
   "execution_count": null,
   "metadata": {
    "collapsed": true
   },
   "outputs": [],
   "source": []
  }
 ],
 "metadata": {
  "kernelspec": {
   "display_name": "Haskell",
   "language": "haskell",
   "name": "haskell"
  },
  "language_info": {
   "codemirror_mode": "ihaskell",
   "file_extension": ".hs",
   "name": "haskell",
   "version": "7.10.2"
  }
 },
 "nbformat": 4,
 "nbformat_minor": 0
}
